{
 "cells": [
  {
   "cell_type": "raw",
   "id": "5385f9ea",
   "metadata": {},
   "source": [
    "Universidad del Valle\n",
    "\n",
    "Facultad de Ingeniería | Escuela de Ingeniería de Sistemas y Computación | Inteligencia Artificial\n",
    "\n",
    "Sebastián Tutistar Valencia - 2110309 | Carlos Alberto Henao - 2110339 | Oscar Trujillo - 2110318\n",
    "\n",
    "Redes Neuronales"
   ]
  },
  {
   "cell_type": "code",
   "execution_count": 1,
   "id": "4732e2a7",
   "metadata": {},
   "outputs": [],
   "source": [
    "#→→→→→→→→→→→→→→→→→→→→→→→→→\n",
    "# Importamos las bibliotecas necesarias para desarrollar el lab.\n",
    "\n",
    "import numpy as np\n",
    "import pandas as pd\n",
    "import sklearn\n",
    "import warnings"
   ]
  },
  {
   "cell_type": "raw",
   "id": "b180707c",
   "metadata": {},
   "source": [
    "1. Leer el archivo stroke.csv."
   ]
  },
  {
   "cell_type": "code",
   "execution_count": 2,
   "id": "04b5aa9b",
   "metadata": {},
   "outputs": [
    {
     "data": {
      "text/html": [
       "<div>\n",
       "<style scoped>\n",
       "    .dataframe tbody tr th:only-of-type {\n",
       "        vertical-align: middle;\n",
       "    }\n",
       "\n",
       "    .dataframe tbody tr th {\n",
       "        vertical-align: top;\n",
       "    }\n",
       "\n",
       "    .dataframe thead th {\n",
       "        text-align: right;\n",
       "    }\n",
       "</style>\n",
       "<table border=\"1\" class=\"dataframe\">\n",
       "  <thead>\n",
       "    <tr style=\"text-align: right;\">\n",
       "      <th></th>\n",
       "      <th>gender</th>\n",
       "      <th>age</th>\n",
       "      <th>hypertension</th>\n",
       "      <th>heart_disease</th>\n",
       "      <th>ever_married</th>\n",
       "      <th>work_type</th>\n",
       "      <th>Residence_type</th>\n",
       "      <th>avg_glucose_level</th>\n",
       "      <th>bmi</th>\n",
       "      <th>smoking_status</th>\n",
       "      <th>stroke</th>\n",
       "    </tr>\n",
       "  </thead>\n",
       "  <tbody>\n",
       "    <tr>\n",
       "      <th>0</th>\n",
       "      <td>Male</td>\n",
       "      <td>67.0</td>\n",
       "      <td>0</td>\n",
       "      <td>1</td>\n",
       "      <td>Yes</td>\n",
       "      <td>Private</td>\n",
       "      <td>Urban</td>\n",
       "      <td>228.69</td>\n",
       "      <td>36.6</td>\n",
       "      <td>formerly smoked</td>\n",
       "      <td>1</td>\n",
       "    </tr>\n",
       "    <tr>\n",
       "      <th>1</th>\n",
       "      <td>Female</td>\n",
       "      <td>61.0</td>\n",
       "      <td>0</td>\n",
       "      <td>0</td>\n",
       "      <td>Yes</td>\n",
       "      <td>Self-employed</td>\n",
       "      <td>Rural</td>\n",
       "      <td>202.21</td>\n",
       "      <td>NaN</td>\n",
       "      <td>never smoked</td>\n",
       "      <td>1</td>\n",
       "    </tr>\n",
       "    <tr>\n",
       "      <th>2</th>\n",
       "      <td>Male</td>\n",
       "      <td>80.0</td>\n",
       "      <td>0</td>\n",
       "      <td>1</td>\n",
       "      <td>Yes</td>\n",
       "      <td>Private</td>\n",
       "      <td>Rural</td>\n",
       "      <td>105.92</td>\n",
       "      <td>32.5</td>\n",
       "      <td>never smoked</td>\n",
       "      <td>1</td>\n",
       "    </tr>\n",
       "    <tr>\n",
       "      <th>3</th>\n",
       "      <td>Female</td>\n",
       "      <td>49.0</td>\n",
       "      <td>0</td>\n",
       "      <td>0</td>\n",
       "      <td>Yes</td>\n",
       "      <td>Private</td>\n",
       "      <td>Urban</td>\n",
       "      <td>171.23</td>\n",
       "      <td>34.4</td>\n",
       "      <td>smokes</td>\n",
       "      <td>1</td>\n",
       "    </tr>\n",
       "    <tr>\n",
       "      <th>4</th>\n",
       "      <td>Female</td>\n",
       "      <td>79.0</td>\n",
       "      <td>1</td>\n",
       "      <td>0</td>\n",
       "      <td>Yes</td>\n",
       "      <td>Self-employed</td>\n",
       "      <td>Rural</td>\n",
       "      <td>174.12</td>\n",
       "      <td>24.0</td>\n",
       "      <td>never smoked</td>\n",
       "      <td>1</td>\n",
       "    </tr>\n",
       "    <tr>\n",
       "      <th>...</th>\n",
       "      <td>...</td>\n",
       "      <td>...</td>\n",
       "      <td>...</td>\n",
       "      <td>...</td>\n",
       "      <td>...</td>\n",
       "      <td>...</td>\n",
       "      <td>...</td>\n",
       "      <td>...</td>\n",
       "      <td>...</td>\n",
       "      <td>...</td>\n",
       "      <td>...</td>\n",
       "    </tr>\n",
       "    <tr>\n",
       "      <th>695</th>\n",
       "      <td>Female</td>\n",
       "      <td>29.0</td>\n",
       "      <td>0</td>\n",
       "      <td>0</td>\n",
       "      <td>Yes</td>\n",
       "      <td>Private</td>\n",
       "      <td>Rural</td>\n",
       "      <td>91.45</td>\n",
       "      <td>24.2</td>\n",
       "      <td>never smoked</td>\n",
       "      <td>0</td>\n",
       "    </tr>\n",
       "    <tr>\n",
       "      <th>696</th>\n",
       "      <td>Female</td>\n",
       "      <td>12.0</td>\n",
       "      <td>0</td>\n",
       "      <td>0</td>\n",
       "      <td>No</td>\n",
       "      <td>children</td>\n",
       "      <td>Rural</td>\n",
       "      <td>90.58</td>\n",
       "      <td>19.2</td>\n",
       "      <td>Unknown</td>\n",
       "      <td>0</td>\n",
       "    </tr>\n",
       "    <tr>\n",
       "      <th>697</th>\n",
       "      <td>Female</td>\n",
       "      <td>37.0</td>\n",
       "      <td>0</td>\n",
       "      <td>0</td>\n",
       "      <td>Yes</td>\n",
       "      <td>Private</td>\n",
       "      <td>Urban</td>\n",
       "      <td>91.45</td>\n",
       "      <td>25.8</td>\n",
       "      <td>Unknown</td>\n",
       "      <td>0</td>\n",
       "    </tr>\n",
       "    <tr>\n",
       "      <th>698</th>\n",
       "      <td>Female</td>\n",
       "      <td>30.0</td>\n",
       "      <td>0</td>\n",
       "      <td>0</td>\n",
       "      <td>Yes</td>\n",
       "      <td>Private</td>\n",
       "      <td>Rural</td>\n",
       "      <td>89.63</td>\n",
       "      <td>23.2</td>\n",
       "      <td>smokes</td>\n",
       "      <td>0</td>\n",
       "    </tr>\n",
       "    <tr>\n",
       "      <th>699</th>\n",
       "      <td>Female</td>\n",
       "      <td>59.0</td>\n",
       "      <td>0</td>\n",
       "      <td>0</td>\n",
       "      <td>Yes</td>\n",
       "      <td>Govt_job</td>\n",
       "      <td>Rural</td>\n",
       "      <td>86.39</td>\n",
       "      <td>30.2</td>\n",
       "      <td>never smoked</td>\n",
       "      <td>0</td>\n",
       "    </tr>\n",
       "  </tbody>\n",
       "</table>\n",
       "<p>700 rows × 11 columns</p>\n",
       "</div>"
      ],
      "text/plain": [
       "     gender   age  hypertension  heart_disease ever_married      work_type  \\\n",
       "0      Male  67.0             0              1          Yes        Private   \n",
       "1    Female  61.0             0              0          Yes  Self-employed   \n",
       "2      Male  80.0             0              1          Yes        Private   \n",
       "3    Female  49.0             0              0          Yes        Private   \n",
       "4    Female  79.0             1              0          Yes  Self-employed   \n",
       "..      ...   ...           ...            ...          ...            ...   \n",
       "695  Female  29.0             0              0          Yes        Private   \n",
       "696  Female  12.0             0              0           No       children   \n",
       "697  Female  37.0             0              0          Yes        Private   \n",
       "698  Female  30.0             0              0          Yes        Private   \n",
       "699  Female  59.0             0              0          Yes       Govt_job   \n",
       "\n",
       "    Residence_type  avg_glucose_level   bmi   smoking_status  stroke  \n",
       "0            Urban             228.69  36.6  formerly smoked       1  \n",
       "1            Rural             202.21   NaN     never smoked       1  \n",
       "2            Rural             105.92  32.5     never smoked       1  \n",
       "3            Urban             171.23  34.4           smokes       1  \n",
       "4            Rural             174.12  24.0     never smoked       1  \n",
       "..             ...                ...   ...              ...     ...  \n",
       "695          Rural              91.45  24.2     never smoked       0  \n",
       "696          Rural              90.58  19.2          Unknown       0  \n",
       "697          Urban              91.45  25.8          Unknown       0  \n",
       "698          Rural              89.63  23.2           smokes       0  \n",
       "699          Rural              86.39  30.2     never smoked       0  \n",
       "\n",
       "[700 rows x 11 columns]"
      ]
     },
     "execution_count": 2,
     "metadata": {},
     "output_type": "execute_result"
    }
   ],
   "source": [
    "#→→→→→→→→→→→→→→→→→→→→→→→→→\n",
    "# Url y cargue de los datos\n",
    "\n",
    "url= (\"https://raw.githubusercontent.com/xlPlanetarizaGol/Machine_Learning_IA/main/stroke.csv\")\n",
    "datos = pd.read_csv(url, sep=\",\")\n",
    "datos"
   ]
  },
  {
   "cell_type": "code",
   "execution_count": 3,
   "id": "b1feab5a",
   "metadata": {},
   "outputs": [
    {
     "name": "stdout",
     "output_type": "stream",
     "text": [
      "<class 'pandas.core.frame.DataFrame'>\n",
      "RangeIndex: 700 entries, 0 to 699\n",
      "Data columns (total 11 columns):\n",
      " #   Column             Non-Null Count  Dtype  \n",
      "---  ------             --------------  -----  \n",
      " 0   gender             700 non-null    object \n",
      " 1   age                700 non-null    float64\n",
      " 2   hypertension       700 non-null    int64  \n",
      " 3   heart_disease      700 non-null    int64  \n",
      " 4   ever_married       700 non-null    object \n",
      " 5   work_type          700 non-null    object \n",
      " 6   Residence_type     700 non-null    object \n",
      " 7   avg_glucose_level  700 non-null    float64\n",
      " 8   bmi                651 non-null    float64\n",
      " 9   smoking_status     700 non-null    object \n",
      " 10  stroke             700 non-null    int64  \n",
      "dtypes: float64(3), int64(3), object(5)\n",
      "memory usage: 60.3+ KB\n"
     ]
    }
   ],
   "source": [
    "#→→→→→→→→→→→→→→→→→→→→→→→→→\n",
    "# Resumen de la información\n",
    "\n",
    "datos.info()"
   ]
  },
  {
   "cell_type": "raw",
   "id": "dcb0cc59",
   "metadata": {},
   "source": [
    "2. Seleccionar aleatoriamente el 80% del conjunto de datos para entrenar y el 20% restante para las pruebas."
   ]
  },
  {
   "cell_type": "code",
   "execution_count": 4,
   "id": "2cb05930",
   "metadata": {},
   "outputs": [
    {
     "name": "stdout",
     "output_type": "stream",
     "text": [
      "700 560 140\n"
     ]
    }
   ],
   "source": [
    "from sklearn.model_selection import train_test_split \n",
    "\n",
    "N=len(datos)\n",
    "cTrain=int(N*0.8)\n",
    "cTest=N-cTrain \n",
    "\n",
    "print(N,cTrain,cTest)\n",
    "\n",
    "train_data,test_data= sklearn.model_selection.train_test_split(datos, train_size=cTrain, test_size=cTest)"
   ]
  },
  {
   "cell_type": "raw",
   "id": "4afb786d",
   "metadata": {},
   "source": [
    "700 personas analizadas.\n",
    "560 es el 80% de las observaciones de la base de datos que se van a utilizar para entrenar los datos.\n",
    "140 es el 20% de las observaciones de la base de datos que se van a utilizar para probar el modelo de predicción."
   ]
  },
  {
   "cell_type": "raw",
   "id": "4d2c019c",
   "metadata": {},
   "source": [
    "3. Utilizar una estrategia para normalizar los datos y llenar los datos faltantes."
   ]
  },
  {
   "cell_type": "code",
   "execution_count": 5,
   "id": "e485ef04",
   "metadata": {},
   "outputs": [],
   "source": [
    "#Pipeline | atributos númericos.\n",
    "\n",
    "from sklearn.pipeline import Pipeline\n",
    "from sklearn.impute import SimpleImputer\n",
    "from sklearn.preprocessing import StandardScaler \n",
    "from sklearn.preprocessing import MinMaxScaler\n",
    "\n",
    "# Variables númericas, en total 3.\n",
    "\n",
    "num_attribs = ['age','avg_glucose_level', 'bmi']\n",
    "num_pipeline = Pipeline([(\"imputer\", SimpleImputer(strategy=\"median\")), (\"scaler\", StandardScaler())])"
   ]
  },
  {
   "cell_type": "code",
   "execution_count": 6,
   "id": "260903ea",
   "metadata": {},
   "outputs": [],
   "source": [
    "#Pipeline | atributos categóricos.\n",
    "\n",
    "from sklearn.preprocessing import OneHotEncoder \n",
    "from sklearn.pipeline import Pipeline\n",
    "from sklearn.impute import SimpleImputer\n",
    "\n",
    "# Variables Categóricas, en total 7.\n",
    "cat_attribs = ['gender','hypertension','heart_disease','ever_married','work_type','Residence_type','smoking_status']\n",
    "cat_pipeline = Pipeline([(\"imputer\", SimpleImputer(strategy=\"most_frequent\")), (\"cat_encoder\", OneHotEncoder(sparse=False))])"
   ]
  },
  {
   "cell_type": "code",
   "execution_count": 7,
   "id": "7d1b8a90",
   "metadata": {},
   "outputs": [],
   "source": [
    "#Full-pipeline\n",
    "\n",
    "from sklearn.compose import ColumnTransformer\n",
    "\n",
    "full_pipeline = ColumnTransformer([ (\"num\", num_pipeline, num_attribs), (\"cat\", cat_pipeline, cat_attribs),])"
   ]
  },
  {
   "cell_type": "code",
   "execution_count": 8,
   "id": "5ccb8556",
   "metadata": {},
   "outputs": [
    {
     "name": "stderr",
     "output_type": "stream",
     "text": [
      "C:\\Users\\lPlaneTUFGG\\AppData\\Local\\Programs\\Python\\Python310\\lib\\site-packages\\sklearn\\preprocessing\\_encoders.py:868: FutureWarning: `sparse` was renamed to `sparse_output` in version 1.2 and will be removed in 1.4. `sparse_output` is ignored unless you leave `sparse` to its default value.\n",
      "  warnings.warn(\n"
     ]
    },
    {
     "data": {
      "text/plain": [
       "(560, 22)"
      ]
     },
     "execution_count": 8,
     "metadata": {},
     "output_type": "execute_result"
    }
   ],
   "source": [
    "#→→→→→→→→→→→→→→→→→→→→→→→→→\n",
    "# Se transforman los datos entrenados - Variables Ind.\n",
    "\n",
    "X_train = full_pipeline.fit_transform(train_data)\n",
    "X_train.shape"
   ]
  },
  {
   "cell_type": "code",
   "execution_count": 9,
   "id": "bab990ab",
   "metadata": {},
   "outputs": [
    {
     "data": {
      "text/plain": [
       "array([ 1.25298862, -0.42885642, -0.71175641,  1.        ,  0.        ,\n",
       "        1.        ,  0.        ,  1.        ,  0.        ,  0.        ,\n",
       "        1.        ,  0.        ,  0.        ,  1.        ,  0.        ,\n",
       "        0.        ,  1.        ,  0.        ,  0.        ,  0.        ,\n",
       "        1.        ,  0.        ])"
      ]
     },
     "execution_count": 9,
     "metadata": {},
     "output_type": "execute_result"
    }
   ],
   "source": [
    "X_train[0,:]"
   ]
  },
  {
   "cell_type": "code",
   "execution_count": 10,
   "id": "b87ec7c0",
   "metadata": {},
   "outputs": [
    {
     "data": {
      "text/plain": [
       "108    1\n",
       "620    0\n",
       "658    0\n",
       "569    0\n",
       "578    0\n",
       "      ..\n",
       "674    0\n",
       "24     1\n",
       "550    0\n",
       "89     1\n",
       "288    0\n",
       "Name: stroke, Length: 560, dtype: int64"
      ]
     },
     "execution_count": 10,
     "metadata": {},
     "output_type": "execute_result"
    }
   ],
   "source": [
    "#→→→→→→→→→→→→→→→→→→→→→→→→→\n",
    "# Variable dependiente\n",
    "\n",
    "y_train = train_data[\"stroke\"]\n",
    "y_train"
   ]
  },
  {
   "cell_type": "code",
   "execution_count": 11,
   "id": "bb4a32f6",
   "metadata": {},
   "outputs": [
    {
     "data": {
      "text/plain": [
       "array([[ 0.98351559,  1.50739372,  0.41659504, ...,  0.        ,\n",
       "         1.        ,  0.        ],\n",
       "       [-0.31893737, -0.22505062,  2.64705721, ...,  1.        ,\n",
       "         0.        ,  0.        ],\n",
       "       [-0.00455217, -0.62107588,  0.0098637 , ...,  0.        ,\n",
       "         0.        ,  1.        ],\n",
       "       ...,\n",
       "       [-1.48665381,  1.27699629, -1.13160811, ...,  0.        ,\n",
       "         0.        ,  0.        ],\n",
       "       [ 0.13018434,  0.25701755,  0.36411358, ...,  0.        ,\n",
       "         1.        ,  0.        ],\n",
       "       [-0.63332256, -0.76827952,  2.43713136, ...,  1.        ,\n",
       "         0.        ,  0.        ]])"
      ]
     },
     "execution_count": 11,
     "metadata": {},
     "output_type": "execute_result"
    }
   ],
   "source": [
    "X_test = full_pipeline.transform(test_data) \n",
    "X_test"
   ]
  },
  {
   "cell_type": "code",
   "execution_count": 12,
   "id": "4be4d749",
   "metadata": {},
   "outputs": [
    {
     "data": {
      "text/plain": [
       "58     1\n",
       "462    0\n",
       "511    0\n",
       "387    0\n",
       "309    0\n",
       "      ..\n",
       "640    0\n",
       "665    0\n",
       "581    0\n",
       "526    0\n",
       "341    0\n",
       "Name: stroke, Length: 140, dtype: int64"
      ]
     },
     "execution_count": 12,
     "metadata": {},
     "output_type": "execute_result"
    }
   ],
   "source": [
    "y_test = test_data[\"stroke\"]\n",
    "y_test"
   ]
  },
  {
   "cell_type": "raw",
   "id": "1bddd434",
   "metadata": {},
   "source": [
    "4. Construir 5 redes neuronales variando en la topología de la red la cantidad de capas ocultas y de neuronas\n",
    "por cada capa oculta. Puede también variar los hiperparámetros solver y la función de activación. En todas\n",
    "las pruebas debe usar un random_state=123. Incluya en el notebook una tabla a manera de resumen con el\n",
    "accuracy obtenido en cada caso y también las matrices de confusión."
   ]
  },
  {
   "cell_type": "code",
   "execution_count": 13,
   "id": "430177b5",
   "metadata": {},
   "outputs": [
    {
     "name": "stderr",
     "output_type": "stream",
     "text": [
      "C:\\Users\\lPlaneTUFGG\\AppData\\Local\\Programs\\Python\\Python310\\lib\\site-packages\\sklearn\\neural_network\\_multilayer_perceptron.py:686: ConvergenceWarning: Stochastic Optimizer: Maximum iterations (200) reached and the optimization hasn't converged yet.\n",
      "  warnings.warn(\n",
      "C:\\Users\\lPlaneTUFGG\\AppData\\Local\\Programs\\Python\\Python310\\lib\\site-packages\\sklearn\\neural_network\\_multilayer_perceptron.py:686: ConvergenceWarning: Stochastic Optimizer: Maximum iterations (200) reached and the optimization hasn't converged yet.\n",
      "  warnings.warn(\n",
      "C:\\Users\\lPlaneTUFGG\\AppData\\Local\\Programs\\Python\\Python310\\lib\\site-packages\\sklearn\\neural_network\\_multilayer_perceptron.py:686: ConvergenceWarning: Stochastic Optimizer: Maximum iterations (200) reached and the optimization hasn't converged yet.\n",
      "  warnings.warn(\n",
      "C:\\Users\\lPlaneTUFGG\\AppData\\Local\\Programs\\Python\\Python310\\lib\\site-packages\\sklearn\\neural_network\\_multilayer_perceptron.py:686: ConvergenceWarning: Stochastic Optimizer: Maximum iterations (200) reached and the optimization hasn't converged yet.\n",
      "  warnings.warn(\n",
      "C:\\Users\\lPlaneTUFGG\\AppData\\Local\\Programs\\Python\\Python310\\lib\\site-packages\\sklearn\\neural_network\\_multilayer_perceptron.py:686: ConvergenceWarning: Stochastic Optimizer: Maximum iterations (200) reached and the optimization hasn't converged yet.\n",
      "  warnings.warn(\n",
      "C:\\Users\\lPlaneTUFGG\\AppData\\Local\\Programs\\Python\\Python310\\lib\\site-packages\\sklearn\\neural_network\\_multilayer_perceptron.py:686: ConvergenceWarning: Stochastic Optimizer: Maximum iterations (200) reached and the optimization hasn't converged yet.\n",
      "  warnings.warn(\n",
      "C:\\Users\\lPlaneTUFGG\\AppData\\Local\\Programs\\Python\\Python310\\lib\\site-packages\\sklearn\\neural_network\\_multilayer_perceptron.py:686: ConvergenceWarning: Stochastic Optimizer: Maximum iterations (200) reached and the optimization hasn't converged yet.\n",
      "  warnings.warn(\n",
      "C:\\Users\\lPlaneTUFGG\\AppData\\Local\\Programs\\Python\\Python310\\lib\\site-packages\\sklearn\\neural_network\\_multilayer_perceptron.py:686: ConvergenceWarning: Stochastic Optimizer: Maximum iterations (200) reached and the optimization hasn't converged yet.\n",
      "  warnings.warn(\n",
      "C:\\Users\\lPlaneTUFGG\\AppData\\Local\\Programs\\Python\\Python310\\lib\\site-packages\\sklearn\\neural_network\\_multilayer_perceptron.py:686: ConvergenceWarning: Stochastic Optimizer: Maximum iterations (200) reached and the optimization hasn't converged yet.\n",
      "  warnings.warn(\n",
      "C:\\Users\\lPlaneTUFGG\\AppData\\Local\\Programs\\Python\\Python310\\lib\\site-packages\\sklearn\\neural_network\\_multilayer_perceptron.py:686: ConvergenceWarning: Stochastic Optimizer: Maximum iterations (200) reached and the optimization hasn't converged yet.\n",
      "  warnings.warn(\n",
      "C:\\Users\\lPlaneTUFGG\\AppData\\Local\\Programs\\Python\\Python310\\lib\\site-packages\\sklearn\\neural_network\\_multilayer_perceptron.py:686: ConvergenceWarning: Stochastic Optimizer: Maximum iterations (200) reached and the optimization hasn't converged yet.\n",
      "  warnings.warn(\n",
      "C:\\Users\\lPlaneTUFGG\\AppData\\Local\\Programs\\Python\\Python310\\lib\\site-packages\\sklearn\\neural_network\\_multilayer_perceptron.py:686: ConvergenceWarning: Stochastic Optimizer: Maximum iterations (200) reached and the optimization hasn't converged yet.\n",
      "  warnings.warn(\n",
      "C:\\Users\\lPlaneTUFGG\\AppData\\Local\\Programs\\Python\\Python310\\lib\\site-packages\\sklearn\\neural_network\\_multilayer_perceptron.py:686: ConvergenceWarning: Stochastic Optimizer: Maximum iterations (200) reached and the optimization hasn't converged yet.\n",
      "  warnings.warn(\n",
      "C:\\Users\\lPlaneTUFGG\\AppData\\Local\\Programs\\Python\\Python310\\lib\\site-packages\\sklearn\\neural_network\\_multilayer_perceptron.py:686: ConvergenceWarning: Stochastic Optimizer: Maximum iterations (200) reached and the optimization hasn't converged yet.\n",
      "  warnings.warn(\n",
      "C:\\Users\\lPlaneTUFGG\\AppData\\Local\\Programs\\Python\\Python310\\lib\\site-packages\\sklearn\\neural_network\\_multilayer_perceptron.py:686: ConvergenceWarning: Stochastic Optimizer: Maximum iterations (200) reached and the optimization hasn't converged yet.\n",
      "  warnings.warn(\n",
      "C:\\Users\\lPlaneTUFGG\\AppData\\Local\\Programs\\Python\\Python310\\lib\\site-packages\\sklearn\\neural_network\\_multilayer_perceptron.py:686: ConvergenceWarning: Stochastic Optimizer: Maximum iterations (200) reached and the optimization hasn't converged yet.\n",
      "  warnings.warn(\n",
      "C:\\Users\\lPlaneTUFGG\\AppData\\Local\\Programs\\Python\\Python310\\lib\\site-packages\\sklearn\\neural_network\\_multilayer_perceptron.py:686: ConvergenceWarning: Stochastic Optimizer: Maximum iterations (200) reached and the optimization hasn't converged yet.\n",
      "  warnings.warn(\n"
     ]
    },
    {
     "name": "stdout",
     "output_type": "stream",
     "text": [
      "[{'Topología': (10,), 'Función de activación': 'relu', 'Solver': 'adam', 'Accuracy': 0.7357, 'Matriz de confusión': array([[65, 17],\n",
      "       [20, 38]], dtype=int64)}, {'Topología': (10,), 'Función de activación': 'relu', 'Solver': 'sgd', 'Accuracy': 0.7571, 'Matriz de confusión': array([[67, 15],\n",
      "       [19, 39]], dtype=int64)}, {'Topología': (10,), 'Función de activación': 'logistic', 'Solver': 'adam', 'Accuracy': 0.7357, 'Matriz de confusión': array([[69, 13],\n",
      "       [24, 34]], dtype=int64)}, {'Topología': (10,), 'Función de activación': 'logistic', 'Solver': 'sgd', 'Accuracy': 0.5857, 'Matriz de confusión': array([[82,  0],\n",
      "       [58,  0]], dtype=int64)}, {'Topología': (10, 10), 'Función de activación': 'relu', 'Solver': 'adam', 'Accuracy': 0.7643, 'Matriz de confusión': array([[66, 16],\n",
      "       [17, 41]], dtype=int64)}, {'Topología': (10, 10), 'Función de activación': 'relu', 'Solver': 'sgd', 'Accuracy': 0.75, 'Matriz de confusión': array([[75,  7],\n",
      "       [28, 30]], dtype=int64)}, {'Topología': (10, 10), 'Función de activación': 'logistic', 'Solver': 'adam', 'Accuracy': 0.6643, 'Matriz de confusión': array([[81,  1],\n",
      "       [46, 12]], dtype=int64)}, {'Topología': (10, 10), 'Función de activación': 'logistic', 'Solver': 'sgd', 'Accuracy': 0.5857, 'Matriz de confusión': array([[82,  0],\n",
      "       [58,  0]], dtype=int64)}, {'Topología': (20,), 'Función de activación': 'relu', 'Solver': 'adam', 'Accuracy': 0.7357, 'Matriz de confusión': array([[66, 16],\n",
      "       [21, 37]], dtype=int64)}, {'Topología': (20,), 'Función de activación': 'relu', 'Solver': 'sgd', 'Accuracy': 0.7071, 'Matriz de confusión': array([[69, 13],\n",
      "       [28, 30]], dtype=int64)}, {'Topología': (20,), 'Función de activación': 'logistic', 'Solver': 'adam', 'Accuracy': 0.7714, 'Matriz de confusión': array([[69, 13],\n",
      "       [19, 39]], dtype=int64)}, {'Topología': (20,), 'Función de activación': 'logistic', 'Solver': 'sgd', 'Accuracy': 0.5857, 'Matriz de confusión': array([[82,  0],\n",
      "       [58,  0]], dtype=int64)}, {'Topología': (20, 20), 'Función de activación': 'relu', 'Solver': 'adam', 'Accuracy': 0.7214, 'Matriz de confusión': array([[66, 16],\n",
      "       [23, 35]], dtype=int64)}, {'Topología': (20, 20), 'Función de activación': 'relu', 'Solver': 'sgd', 'Accuracy': 0.7786, 'Matriz de confusión': array([[71, 11],\n",
      "       [20, 38]], dtype=int64)}, {'Topología': (20, 20), 'Función de activación': 'logistic', 'Solver': 'adam', 'Accuracy': 0.7643, 'Matriz de confusión': array([[66, 16],\n",
      "       [17, 41]], dtype=int64)}, {'Topología': (20, 20), 'Función de activación': 'logistic', 'Solver': 'sgd', 'Accuracy': 0.5857, 'Matriz de confusión': array([[82,  0],\n",
      "       [58,  0]], dtype=int64)}, {'Topología': (30,), 'Función de activación': 'relu', 'Solver': 'adam', 'Accuracy': 0.7571, 'Matriz de confusión': array([[68, 14],\n",
      "       [20, 38]], dtype=int64)}, {'Topología': (30,), 'Función de activación': 'relu', 'Solver': 'sgd', 'Accuracy': 0.7429, 'Matriz de confusión': array([[69, 13],\n",
      "       [23, 35]], dtype=int64)}, {'Topología': (30,), 'Función de activación': 'logistic', 'Solver': 'adam', 'Accuracy': 0.7714, 'Matriz de confusión': array([[69, 13],\n",
      "       [19, 39]], dtype=int64)}, {'Topología': (30,), 'Función de activación': 'logistic', 'Solver': 'sgd', 'Accuracy': 0.5857, 'Matriz de confusión': array([[82,  0],\n",
      "       [58,  0]], dtype=int64)}]\n"
     ]
    },
    {
     "name": "stderr",
     "output_type": "stream",
     "text": [
      "C:\\Users\\lPlaneTUFGG\\AppData\\Local\\Programs\\Python\\Python310\\lib\\site-packages\\sklearn\\neural_network\\_multilayer_perceptron.py:686: ConvergenceWarning: Stochastic Optimizer: Maximum iterations (200) reached and the optimization hasn't converged yet.\n",
      "  warnings.warn(\n"
     ]
    }
   ],
   "source": [
    "import pandas as pd\n",
    "from sklearn.neural_network import MLPClassifier\n",
    "from sklearn.metrics import accuracy_score, confusion_matrix\n",
    "\n",
    "resultados = []\n",
    "topologias = [(10,), (10, 10), (20,), (20, 20), (30,),]\n",
    "func_activacion = [\"relu\", \"logistic\"] \n",
    "\n",
    "# Solvers\n",
    "solvers = [\"adam\", \"sgd\"]\n",
    "\n",
    "for topologia in topologias:\n",
    "    for activacion in func_activacion:\n",
    "        for solver in solvers:\n",
    "            # Nuevo modelo de red neuronal\n",
    "            model = MLPClassifier(hidden_layer_sizes=topologia, activation=activacion, solver=solver, random_state=123)\n",
    "            model.fit(X_train, y_train)\n",
    "            y_pred = model.predict(X_test)\n",
    "            accuracy = round(accuracy_score(y_test, y_pred),4)\n",
    "            confusion = confusion_matrix(y_test, y_pred)\n",
    "            resultados.append({\"Topología\": topologia, \"Función de activación\": activacion, \"Solver\": solver, \"Accuracy\": accuracy, \"Matriz de confusión\": confusion})\n",
    "\n",
    "print(resultados)"
   ]
  },
  {
   "cell_type": "code",
   "execution_count": 14,
   "id": "7333ed49",
   "metadata": {},
   "outputs": [
    {
     "data": {
      "text/html": [
       "<div>\n",
       "<style scoped>\n",
       "    .dataframe tbody tr th:only-of-type {\n",
       "        vertical-align: middle;\n",
       "    }\n",
       "\n",
       "    .dataframe tbody tr th {\n",
       "        vertical-align: top;\n",
       "    }\n",
       "\n",
       "    .dataframe thead th {\n",
       "        text-align: right;\n",
       "    }\n",
       "</style>\n",
       "<table border=\"1\" class=\"dataframe\">\n",
       "  <thead>\n",
       "    <tr style=\"text-align: right;\">\n",
       "      <th></th>\n",
       "      <th>Topología</th>\n",
       "      <th>Función de activación</th>\n",
       "      <th>Solver</th>\n",
       "      <th>Accuracy</th>\n",
       "      <th>Matriz de confusión</th>\n",
       "    </tr>\n",
       "  </thead>\n",
       "  <tbody>\n",
       "    <tr>\n",
       "      <th>0</th>\n",
       "      <td>(10,)</td>\n",
       "      <td>relu</td>\n",
       "      <td>adam</td>\n",
       "      <td>0.7357</td>\n",
       "      <td>[[65, 17], [20, 38]]</td>\n",
       "    </tr>\n",
       "    <tr>\n",
       "      <th>1</th>\n",
       "      <td>(10,)</td>\n",
       "      <td>relu</td>\n",
       "      <td>sgd</td>\n",
       "      <td>0.7571</td>\n",
       "      <td>[[67, 15], [19, 39]]</td>\n",
       "    </tr>\n",
       "    <tr>\n",
       "      <th>2</th>\n",
       "      <td>(10,)</td>\n",
       "      <td>logistic</td>\n",
       "      <td>adam</td>\n",
       "      <td>0.7357</td>\n",
       "      <td>[[69, 13], [24, 34]]</td>\n",
       "    </tr>\n",
       "    <tr>\n",
       "      <th>3</th>\n",
       "      <td>(10,)</td>\n",
       "      <td>logistic</td>\n",
       "      <td>sgd</td>\n",
       "      <td>0.5857</td>\n",
       "      <td>[[82, 0], [58, 0]]</td>\n",
       "    </tr>\n",
       "    <tr>\n",
       "      <th>4</th>\n",
       "      <td>(10, 10)</td>\n",
       "      <td>relu</td>\n",
       "      <td>adam</td>\n",
       "      <td>0.7643</td>\n",
       "      <td>[[66, 16], [17, 41]]</td>\n",
       "    </tr>\n",
       "    <tr>\n",
       "      <th>5</th>\n",
       "      <td>(10, 10)</td>\n",
       "      <td>relu</td>\n",
       "      <td>sgd</td>\n",
       "      <td>0.7500</td>\n",
       "      <td>[[75, 7], [28, 30]]</td>\n",
       "    </tr>\n",
       "    <tr>\n",
       "      <th>6</th>\n",
       "      <td>(10, 10)</td>\n",
       "      <td>logistic</td>\n",
       "      <td>adam</td>\n",
       "      <td>0.6643</td>\n",
       "      <td>[[81, 1], [46, 12]]</td>\n",
       "    </tr>\n",
       "    <tr>\n",
       "      <th>7</th>\n",
       "      <td>(10, 10)</td>\n",
       "      <td>logistic</td>\n",
       "      <td>sgd</td>\n",
       "      <td>0.5857</td>\n",
       "      <td>[[82, 0], [58, 0]]</td>\n",
       "    </tr>\n",
       "    <tr>\n",
       "      <th>8</th>\n",
       "      <td>(20,)</td>\n",
       "      <td>relu</td>\n",
       "      <td>adam</td>\n",
       "      <td>0.7357</td>\n",
       "      <td>[[66, 16], [21, 37]]</td>\n",
       "    </tr>\n",
       "    <tr>\n",
       "      <th>9</th>\n",
       "      <td>(20,)</td>\n",
       "      <td>relu</td>\n",
       "      <td>sgd</td>\n",
       "      <td>0.7071</td>\n",
       "      <td>[[69, 13], [28, 30]]</td>\n",
       "    </tr>\n",
       "    <tr>\n",
       "      <th>10</th>\n",
       "      <td>(20,)</td>\n",
       "      <td>logistic</td>\n",
       "      <td>adam</td>\n",
       "      <td>0.7714</td>\n",
       "      <td>[[69, 13], [19, 39]]</td>\n",
       "    </tr>\n",
       "    <tr>\n",
       "      <th>11</th>\n",
       "      <td>(20,)</td>\n",
       "      <td>logistic</td>\n",
       "      <td>sgd</td>\n",
       "      <td>0.5857</td>\n",
       "      <td>[[82, 0], [58, 0]]</td>\n",
       "    </tr>\n",
       "    <tr>\n",
       "      <th>12</th>\n",
       "      <td>(20, 20)</td>\n",
       "      <td>relu</td>\n",
       "      <td>adam</td>\n",
       "      <td>0.7214</td>\n",
       "      <td>[[66, 16], [23, 35]]</td>\n",
       "    </tr>\n",
       "    <tr>\n",
       "      <th>13</th>\n",
       "      <td>(20, 20)</td>\n",
       "      <td>relu</td>\n",
       "      <td>sgd</td>\n",
       "      <td>0.7786</td>\n",
       "      <td>[[71, 11], [20, 38]]</td>\n",
       "    </tr>\n",
       "    <tr>\n",
       "      <th>14</th>\n",
       "      <td>(20, 20)</td>\n",
       "      <td>logistic</td>\n",
       "      <td>adam</td>\n",
       "      <td>0.7643</td>\n",
       "      <td>[[66, 16], [17, 41]]</td>\n",
       "    </tr>\n",
       "    <tr>\n",
       "      <th>15</th>\n",
       "      <td>(20, 20)</td>\n",
       "      <td>logistic</td>\n",
       "      <td>sgd</td>\n",
       "      <td>0.5857</td>\n",
       "      <td>[[82, 0], [58, 0]]</td>\n",
       "    </tr>\n",
       "    <tr>\n",
       "      <th>16</th>\n",
       "      <td>(30,)</td>\n",
       "      <td>relu</td>\n",
       "      <td>adam</td>\n",
       "      <td>0.7571</td>\n",
       "      <td>[[68, 14], [20, 38]]</td>\n",
       "    </tr>\n",
       "    <tr>\n",
       "      <th>17</th>\n",
       "      <td>(30,)</td>\n",
       "      <td>relu</td>\n",
       "      <td>sgd</td>\n",
       "      <td>0.7429</td>\n",
       "      <td>[[69, 13], [23, 35]]</td>\n",
       "    </tr>\n",
       "    <tr>\n",
       "      <th>18</th>\n",
       "      <td>(30,)</td>\n",
       "      <td>logistic</td>\n",
       "      <td>adam</td>\n",
       "      <td>0.7714</td>\n",
       "      <td>[[69, 13], [19, 39]]</td>\n",
       "    </tr>\n",
       "    <tr>\n",
       "      <th>19</th>\n",
       "      <td>(30,)</td>\n",
       "      <td>logistic</td>\n",
       "      <td>sgd</td>\n",
       "      <td>0.5857</td>\n",
       "      <td>[[82, 0], [58, 0]]</td>\n",
       "    </tr>\n",
       "  </tbody>\n",
       "</table>\n",
       "</div>"
      ],
      "text/plain": [
       "   Topología Función de activación Solver  Accuracy   Matriz de confusión\n",
       "0      (10,)                  relu   adam    0.7357  [[65, 17], [20, 38]]\n",
       "1      (10,)                  relu    sgd    0.7571  [[67, 15], [19, 39]]\n",
       "2      (10,)              logistic   adam    0.7357  [[69, 13], [24, 34]]\n",
       "3      (10,)              logistic    sgd    0.5857    [[82, 0], [58, 0]]\n",
       "4   (10, 10)                  relu   adam    0.7643  [[66, 16], [17, 41]]\n",
       "5   (10, 10)                  relu    sgd    0.7500   [[75, 7], [28, 30]]\n",
       "6   (10, 10)              logistic   adam    0.6643   [[81, 1], [46, 12]]\n",
       "7   (10, 10)              logistic    sgd    0.5857    [[82, 0], [58, 0]]\n",
       "8      (20,)                  relu   adam    0.7357  [[66, 16], [21, 37]]\n",
       "9      (20,)                  relu    sgd    0.7071  [[69, 13], [28, 30]]\n",
       "10     (20,)              logistic   adam    0.7714  [[69, 13], [19, 39]]\n",
       "11     (20,)              logistic    sgd    0.5857    [[82, 0], [58, 0]]\n",
       "12  (20, 20)                  relu   adam    0.7214  [[66, 16], [23, 35]]\n",
       "13  (20, 20)                  relu    sgd    0.7786  [[71, 11], [20, 38]]\n",
       "14  (20, 20)              logistic   adam    0.7643  [[66, 16], [17, 41]]\n",
       "15  (20, 20)              logistic    sgd    0.5857    [[82, 0], [58, 0]]\n",
       "16     (30,)                  relu   adam    0.7571  [[68, 14], [20, 38]]\n",
       "17     (30,)                  relu    sgd    0.7429  [[69, 13], [23, 35]]\n",
       "18     (30,)              logistic   adam    0.7714  [[69, 13], [19, 39]]\n",
       "19     (30,)              logistic    sgd    0.5857    [[82, 0], [58, 0]]"
      ]
     },
     "metadata": {},
     "output_type": "display_data"
    }
   ],
   "source": [
    "import pandas as pd\n",
    "\n",
    "# Resultados\n",
    "result = pd.DataFrame(resultados)\n",
    "display(result)"
   ]
  },
  {
   "cell_type": "raw",
   "id": "11becd6f",
   "metadata": {},
   "source": [
    "5. Indique en el notebook usando una celda de tipo Markdown los hiperparámetros que por el momento le\n",
    "permiten obtener la red con mayor accuracy."
   ]
  },
  {
   "cell_type": "code",
   "execution_count": 15,
   "id": "73d162f3",
   "metadata": {},
   "outputs": [
    {
     "name": "stdout",
     "output_type": "stream",
     "text": [
      "➤Mejores hiperparámetros:\n",
      "➤Topología: (20, 20)\n",
      "➤Solver: sgd\n",
      "➤Función de activación: relu\n",
      "➤Matriz de confusión: [[71 11]\n",
      " [20 38]]\n",
      "➤Accuracy: 0.7786\n"
     ]
    }
   ],
   "source": [
    "#  Red neuronal con el mejor valor de accuracy\n",
    "max_accuracy = max(resultados, key=lambda x: x[\"Accuracy\"])\n",
    "\n",
    "# Hiperparámetros del mejor resultado obtenido\n",
    "\n",
    "print(\"➤Mejores hiperparámetros:\")\n",
    "print(\"➤Topología:\", max_accuracy[\"Topología\"])\n",
    "print(\"➤Solver:\", max_accuracy[\"Solver\"])\n",
    "print(\"➤Función de activación:\", max_accuracy[\"Función de activación\"])\n",
    "print(\"➤Matriz de confusión:\", max_accuracy[\"Matriz de confusión\"])\n",
    "print(\"➤Accuracy:\", max_accuracy[\"Accuracy\"])"
   ]
  },
  {
   "cell_type": "raw",
   "id": "2700b141",
   "metadata": {},
   "source": [
    "6. Seleccione uno de los hiperparámetros disponibles en la documentación (https://scikitlearn.org/stable/modules/generated/sklearn.neural_network.MLPClassifier.html) que sea diferente al\n",
    "solver, a la función de activación, y al random_state. Realice dos variaciones en el hiperparámetro\n",
    "seleccionado manteniendo los otros hiperparámetros del punto anterior. Indique el accuracy obtenido al\n",
    "modificar el hiperparámetro seleccionado y analice si la red mejora, empeora, o mantiene su exactitud.\n",
    "Incluya en el notebook dicho análisis."
   ]
  },
  {
   "cell_type": "code",
   "execution_count": 16,
   "id": "ac50f837",
   "metadata": {},
   "outputs": [
    {
     "name": "stderr",
     "output_type": "stream",
     "text": [
      "C:\\Users\\lPlaneTUFGG\\AppData\\Local\\Programs\\Python\\Python310\\lib\\site-packages\\sklearn\\neural_network\\_multilayer_perceptron.py:686: ConvergenceWarning: Stochastic Optimizer: Maximum iterations (200) reached and the optimization hasn't converged yet.\n",
      "  warnings.warn(\n"
     ]
    },
    {
     "name": "stdout",
     "output_type": "stream",
     "text": [
      "[{'learning_rate_init': 0.01, 'accuracy': 0.6857142857142857}, {'learning_rate_init': 0.001, 'accuracy': 0.7642857142857142}]\n"
     ]
    },
    {
     "name": "stderr",
     "output_type": "stream",
     "text": [
      "C:\\Users\\lPlaneTUFGG\\AppData\\Local\\Programs\\Python\\Python310\\lib\\site-packages\\sklearn\\neural_network\\_multilayer_perceptron.py:686: ConvergenceWarning: Stochastic Optimizer: Maximum iterations (200) reached and the optimization hasn't converged yet.\n",
      "  warnings.warn(\n"
     ]
    }
   ],
   "source": [
    "from sklearn.neural_network import MLPClassifier\n",
    "from sklearn.metrics import accuracy_score\n",
    "\n",
    "resultados_p6 = []\n",
    "\n",
    "learning_rate_inits = [0.01, 0.001]\n",
    "activation = \"relu\"\n",
    "solver = \"adam\"\n",
    "for learning_rate_init in learning_rate_inits:\n",
    "    hidden_layer_sizes = (10, 10)\n",
    "    model = MLPClassifier(hidden_layer_sizes=hidden_layer_sizes, activation=activation, solver=solver, random_state=123, learning_rate_init=learning_rate_init)\n",
    "    model.fit(X_train, y_train) \n",
    "    y_pred = model.predict(X_test)\n",
    "    accuracy = accuracy_score(y_test, y_pred)\n",
    "    resultados_p6.append({\"learning_rate_init\": learning_rate_init, \"accuracy\": accuracy})\n",
    "\n",
    "print(resultados_p6)"
   ]
  },
  {
   "cell_type": "code",
   "execution_count": 18,
   "id": "4cebd3f8",
   "metadata": {
    "scrolled": true
   },
   "outputs": [
    {
     "data": {
      "text/html": [
       "<div>\n",
       "<style scoped>\n",
       "    .dataframe tbody tr th:only-of-type {\n",
       "        vertical-align: middle;\n",
       "    }\n",
       "\n",
       "    .dataframe tbody tr th {\n",
       "        vertical-align: top;\n",
       "    }\n",
       "\n",
       "    .dataframe thead th {\n",
       "        text-align: right;\n",
       "    }\n",
       "</style>\n",
       "<table border=\"1\" class=\"dataframe\">\n",
       "  <thead>\n",
       "    <tr style=\"text-align: right;\">\n",
       "      <th></th>\n",
       "      <th>learning_rate_init</th>\n",
       "      <th>accuracy</th>\n",
       "    </tr>\n",
       "  </thead>\n",
       "  <tbody>\n",
       "    <tr>\n",
       "      <th>0</th>\n",
       "      <td>0.010</td>\n",
       "      <td>0.685714</td>\n",
       "    </tr>\n",
       "    <tr>\n",
       "      <th>1</th>\n",
       "      <td>0.001</td>\n",
       "      <td>0.764286</td>\n",
       "    </tr>\n",
       "  </tbody>\n",
       "</table>\n",
       "</div>"
      ],
      "text/plain": [
       "   learning_rate_init  accuracy\n",
       "0               0.010  0.685714\n",
       "1               0.001  0.764286"
      ]
     },
     "metadata": {},
     "output_type": "display_data"
    }
   ],
   "source": [
    "import pandas as pd\n",
    "\n",
    "# Tabla con los resultados\n",
    "resultados_6 = pd.DataFrame(resultados_p6)\n",
    "display(resultados_6)"
   ]
  },
  {
   "cell_type": "code",
   "execution_count": 20,
   "id": "a9c6c851",
   "metadata": {},
   "outputs": [
    {
     "name": "stdout",
     "output_type": "stream",
     "text": [
      "Accuracy punto 5: 0.7786\n",
      "Accuracy punto 6: 0.7642857142857142\n",
      "➤La red neuronal disminuyó la precisión, por lo tanto la mejor red tiene un nivel de exactitud de 0.7786 que corresponde al punto 5.\n",
      "Mejores hiperparámetros:\n",
      "→Topología: (20, 20)\n",
      "→Función de activación: relu\n",
      "→Solver: sgd\n",
      "→Accuracy: 0.7786\n",
      "→Matriz de confusión: [[71 11]\n",
      " [20 38]]\n"
     ]
    }
   ],
   "source": [
    "#→→→→→→→→→→→→→→→→→→→→→→→→→\n",
    "# Comparación de los accuracy del punto 5 y punto 6\n",
    "\n",
    "print(\"Accuracy punto 5:\", max_accuracy[\"Accuracy\"])\n",
    "\n",
    "max_accuracy_p6 = max(resultados_p6, key=lambda x: x[\"accuracy\"])\n",
    "print(\"Accuracy punto 6:\", max_accuracy_p6[\"accuracy\"])\n",
    "\n",
    "if max_accuracy[\"Accuracy\"] > max_accuracy_p6[\"accuracy\"]:\n",
    "    print(\"➤La red neuronal disminuyó la precisión, por lo tanto la mejor red tiene un nivel de exactitud de\", round(max_accuracy[\"Accuracy\"], 4), \"que corresponde al punto 5.\")\n",
    "    print(\"Mejores hiperparámetros:\")\n",
    "    print(\"→Topología:\", max_accuracy[\"Topología\"])\n",
    "    print(\"→Función de activación:\", max_accuracy[\"Función de activación\"])\n",
    "    print(\"→Solver:\", max_accuracy[\"Solver\"])\n",
    "    print(\"→Accuracy:\", max_accuracy[\"Accuracy\"])\n",
    "    print(\"→Matriz de confusión:\", max_accuracy[\"Matriz de confusión\"])\n",
    "elif max_accuracy[\"Accuracy\"] < max_accuracy_p6[\"accuracy\"]:\n",
    "    print(\"➤La red neuronal ha mejorado la exactitud, por lo tanto la mejor red tiene una precisión de\", round(max_accuracy_p6[\"accuracy\"], 4), \"que corresponde al punto 6.\")\n",
    "    print(\"→Mejores hiperparámetros:\")\n",
    "    print(\"→learning_rate_init:\", max_accuracy_p6[\"learning_rate_init\"])\n",
    "    print(\"→Función de activación:\", activation)\n",
    "    print(\"→Solver:\", solver)\n",
    "else:\n",
    "    print(\"➤La red neuronal ha mantenido la precisión, ya que los valores de exactitud se mantuvieron iguales a pesar de las variaciones realizadas.\") "
   ]
  }
 ],
 "metadata": {
  "kernelspec": {
   "display_name": "Python 3 (ipykernel)",
   "language": "python",
   "name": "python3"
  },
  "language_info": {
   "codemirror_mode": {
    "name": "ipython",
    "version": 3
   },
   "file_extension": ".py",
   "mimetype": "text/x-python",
   "name": "python",
   "nbconvert_exporter": "python",
   "pygments_lexer": "ipython3",
   "version": "3.10.11"
  }
 },
 "nbformat": 4,
 "nbformat_minor": 5
}
